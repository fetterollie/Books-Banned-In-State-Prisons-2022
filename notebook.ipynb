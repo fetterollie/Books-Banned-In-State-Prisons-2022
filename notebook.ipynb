{
 "cells": [
  {
   "cell_type": "markdown",
   "metadata": {},
   "source": [
    "## Imports"
   ]
  },
  {
   "cell_type": "code",
   "execution_count": 1,
   "metadata": {
    "ExecuteTime": {
     "end_time": "2023-01-10T22:00:00.184823Z",
     "start_time": "2023-01-10T21:59:59.520406Z"
    }
   },
   "outputs": [],
   "source": [
    "import pandas as pd\n",
    "import matplotlib.pyplot as plt\n",
    "import seaborn as sns"
   ]
  },
  {
   "cell_type": "markdown",
   "metadata": {},
   "source": [
    "## Data"
   ]
  },
  {
   "cell_type": "code",
   "execution_count": 2,
   "metadata": {
    "ExecuteTime": {
     "end_time": "2023-01-10T22:00:00.245074Z",
     "start_time": "2023-01-10T22:00:00.186006Z"
    }
   },
   "outputs": [],
   "source": [
    "df = pd.read_csv('data/banned_book_data_combined_lists.csv')"
   ]
  },
  {
   "cell_type": "code",
   "execution_count": 3,
   "metadata": {
    "ExecuteTime": {
     "end_time": "2023-01-10T22:00:00.253355Z",
     "start_time": "2023-01-10T22:00:00.246194Z"
    },
    "scrolled": true
   },
   "outputs": [
    {
     "data": {
      "text/html": [
       "<div>\n",
       "<style scoped>\n",
       "    .dataframe tbody tr th:only-of-type {\n",
       "        vertical-align: middle;\n",
       "    }\n",
       "\n",
       "    .dataframe tbody tr th {\n",
       "        vertical-align: top;\n",
       "    }\n",
       "\n",
       "    .dataframe thead th {\n",
       "        text-align: right;\n",
       "    }\n",
       "</style>\n",
       "<table border=\"1\" class=\"dataframe\">\n",
       "  <thead>\n",
       "    <tr style=\"text-align: right;\">\n",
       "      <th></th>\n",
       "      <th>publication</th>\n",
       "      <th>author</th>\n",
       "      <th>date</th>\n",
       "      <th>year</th>\n",
       "      <th>month</th>\n",
       "      <th>day</th>\n",
       "      <th>reason</th>\n",
       "      <th>state_arc</th>\n",
       "    </tr>\n",
       "  </thead>\n",
       "  <tbody>\n",
       "    <tr>\n",
       "      <th>0</th>\n",
       "      <td>[ARABIC LANGUAGE CHARACTERS].</td>\n",
       "      <td>NaN</td>\n",
       "      <td>2019-12-18 00:00:00</td>\n",
       "      <td>2019.0</td>\n",
       "      <td>12.0</td>\n",
       "      <td>18.0</td>\n",
       "      <td>NaN</td>\n",
       "      <td>fl</td>\n",
       "    </tr>\n",
       "    <tr>\n",
       "      <th>1</th>\n",
       "      <td>[ARABIC LANGUAGE CHARACTERS]. TAJWEED QURAN.</td>\n",
       "      <td>NaN</td>\n",
       "      <td>2021-09-09 00:00:00</td>\n",
       "      <td>2021.0</td>\n",
       "      <td>9.0</td>\n",
       "      <td>9.0</td>\n",
       "      <td>NaN</td>\n",
       "      <td>fl</td>\n",
       "    </tr>\n",
       "    <tr>\n",
       "      <th>2</th>\n",
       "      <td>[KOREAN LANGUAGE CHARACTERS] HOLY SPIRIT LOVE.</td>\n",
       "      <td>NaN</td>\n",
       "      <td>2021-02-25 00:00:00</td>\n",
       "      <td>2021.0</td>\n",
       "      <td>2.0</td>\n",
       "      <td>25.0</td>\n",
       "      <td>NaN</td>\n",
       "      <td>fl</td>\n",
       "    </tr>\n",
       "    <tr>\n",
       "      <th>3</th>\n",
       "      <td>[KOREAN LANGUAGE CHARACTERS].</td>\n",
       "      <td>NaN</td>\n",
       "      <td>2021-02-25 00:00:00</td>\n",
       "      <td>2021.0</td>\n",
       "      <td>2.0</td>\n",
       "      <td>25.0</td>\n",
       "      <td>NaN</td>\n",
       "      <td>fl</td>\n",
       "    </tr>\n",
       "    <tr>\n",
       "      <th>4</th>\n",
       "      <td>[KOREAN LANGUAGE CHARACTERS].</td>\n",
       "      <td>NaN</td>\n",
       "      <td>2021-02-25 00:00:00</td>\n",
       "      <td>2021.0</td>\n",
       "      <td>2.0</td>\n",
       "      <td>25.0</td>\n",
       "      <td>NaN</td>\n",
       "      <td>fl</td>\n",
       "    </tr>\n",
       "  </tbody>\n",
       "</table>\n",
       "</div>"
      ],
      "text/plain": [
       "                                       publication author  \\\n",
       "0                   [ARABIC LANGUAGE CHARACTERS].     NaN   \n",
       "1     [ARABIC LANGUAGE CHARACTERS]. TAJWEED QURAN.    NaN   \n",
       "2  [KOREAN LANGUAGE CHARACTERS] HOLY SPIRIT LOVE.     NaN   \n",
       "3                    [KOREAN LANGUAGE CHARACTERS].    NaN   \n",
       "4                   [KOREAN LANGUAGE CHARACTERS].     NaN   \n",
       "\n",
       "                  date    year  month   day reason state_arc  \n",
       "0  2019-12-18 00:00:00  2019.0   12.0  18.0    NaN        fl  \n",
       "1  2021-09-09 00:00:00  2021.0    9.0   9.0    NaN        fl  \n",
       "2  2021-02-25 00:00:00  2021.0    2.0  25.0    NaN        fl  \n",
       "3  2021-02-25 00:00:00  2021.0    2.0  25.0    NaN        fl  \n",
       "4  2021-02-25 00:00:00  2021.0    2.0  25.0    NaN        fl  "
      ]
     },
     "execution_count": 3,
     "metadata": {},
     "output_type": "execute_result"
    }
   ],
   "source": [
    "df.head()"
   ]
  },
  {
   "cell_type": "code",
   "execution_count": 4,
   "metadata": {
    "ExecuteTime": {
     "end_time": "2023-01-10T22:00:00.256038Z",
     "start_time": "2023-01-10T22:00:00.254102Z"
    },
    "scrolled": true
   },
   "outputs": [
    {
     "data": {
      "text/plain": [
       "Index(['publication', 'author', 'date', 'year', 'month', 'day', 'reason',\n",
       "       'state_arc'],\n",
       "      dtype='object')"
      ]
     },
     "execution_count": 4,
     "metadata": {},
     "output_type": "execute_result"
    }
   ],
   "source": [
    "df.columns"
   ]
  },
  {
   "cell_type": "markdown",
   "metadata": {},
   "source": [
    "### About the Columns\n",
    "- publication - Title of the book\n",
    "- author - Author\n",
    "- date - Date the book was banned\n",
    "- year - Integer year book was banned\n",
    "- month - Integer month book was banned\n",
    "- day - Integer day book was banned\n",
    "- reason - Justification provided by the relevant Department of Corrections for banning the book\n",
    "- state - State postal code"
   ]
  },
  {
   "cell_type": "code",
   "execution_count": 5,
   "metadata": {
    "ExecuteTime": {
     "end_time": "2023-01-10T22:00:00.266894Z",
     "start_time": "2023-01-10T22:00:00.256691Z"
    },
    "scrolled": true
   },
   "outputs": [
    {
     "name": "stdout",
     "output_type": "stream",
     "text": [
      "<class 'pandas.core.frame.DataFrame'>\n",
      "RangeIndex: 48376 entries, 0 to 48375\n",
      "Data columns (total 8 columns):\n",
      " #   Column       Non-Null Count  Dtype  \n",
      "---  ------       --------------  -----  \n",
      " 0   publication  48376 non-null  object \n",
      " 1   author       16639 non-null  object \n",
      " 2   date         40750 non-null  object \n",
      " 3   year         40778 non-null  float64\n",
      " 4   month        40750 non-null  float64\n",
      " 5   day          40366 non-null  float64\n",
      " 6   reason       23350 non-null  object \n",
      " 7   state_arc    48376 non-null  object \n",
      "dtypes: float64(3), object(5)\n",
      "memory usage: 3.0+ MB\n"
     ]
    }
   ],
   "source": [
    "df.info()"
   ]
  },
  {
   "cell_type": "code",
   "execution_count": 6,
   "metadata": {
    "ExecuteTime": {
     "end_time": "2023-01-10T22:00:00.269432Z",
     "start_time": "2023-01-10T22:00:00.267675Z"
    }
   },
   "outputs": [],
   "source": [
    "# many nulls in 'author' & 'reason'"
   ]
  },
  {
   "cell_type": "code",
   "execution_count": 7,
   "metadata": {
    "ExecuteTime": {
     "end_time": "2023-01-10T22:00:00.279562Z",
     "start_time": "2023-01-10T22:00:00.272274Z"
    }
   },
   "outputs": [
    {
     "data": {
      "text/plain": [
       "fl    20202\n",
       "tx     9396\n",
       "az     4632\n",
       "va     2553\n",
       "wi     2281\n",
       "or     1780\n",
       "ct     1659\n",
       "sc     1509\n",
       "ca     1424\n",
       "mi      974\n",
       "nc      600\n",
       "ia      431\n",
       "mt      374\n",
       "nj      232\n",
       "il      134\n",
       "ks       99\n",
       "ri       68\n",
       "ga       28\n",
       "Name: state_arc, dtype: int64"
      ]
     },
     "execution_count": 7,
     "metadata": {},
     "output_type": "execute_result"
    }
   ],
   "source": [
    "# which states?\n",
    "df.state_arc.value_counts()"
   ]
  },
  {
   "cell_type": "markdown",
   "metadata": {},
   "source": [
    "## EDA"
   ]
  },
  {
   "cell_type": "code",
   "execution_count": 8,
   "metadata": {
    "ExecuteTime": {
     "end_time": "2023-01-10T22:00:00.568032Z",
     "start_time": "2023-01-10T22:00:00.282864Z"
    },
    "scrolled": true
   },
   "outputs": [
    {
     "data": {
      "image/png": "[encoded data removed]",
      "text/plain": [
       "<Figure size 720x360 with 1 Axes>"
      ]
     },
     "metadata": {
      "needs_background": "light"
     },
     "output_type": "display_data"
    }
   ],
   "source": [
    "fig, ax = plt.subplots(figsize=(10, 5))\n",
    "sns.histplot(data=df, x='year', ax=ax);"
   ]
  },
  {
   "cell_type": "code",
   "execution_count": 31,
   "metadata": {
    "ExecuteTime": {
     "end_time": "2023-01-10T22:08:59.900064Z",
     "start_time": "2023-01-10T22:08:59.749673Z"
    }
   },
   "outputs": [
    {
     "data": {
      "text/plain": [
       "Text(0.5, 1.0, 'Number of Banned Books per State')"
      ]
     },
     "execution_count": 31,
     "metadata": {},
     "output_type": "execute_result"
    },
    {
     "data": {
      "image/png": "[encoded data removed]",
      "text/plain": [
       "<Figure size 1080x540 with 1 Axes>"
      ]
     },
     "metadata": {
      "needs_background": "light"
     },
     "output_type": "display_data"
    }
   ],
   "source": [
    "num_books_per_state = pd.DataFrame(df.state_arc.value_counts())\n",
    "\n",
    "num_books_per_state = num_books_per_state.rename(columns={'state_arc' : 'state_total'})\n",
    "fig, ax = plt.subplots(figsize=(15,7.5))\n",
    "sns.barplot(x=num_books_per_state.index, y=num_books_per_state.state_total, palette='flare')\n",
    "ax.set_ylabel('Number of Banned Books')\n",
    "ax.set_xlabel('State')\n",
    "ax.set_title('Number of Banned Books per State')"
   ]
  },
  {
   "cell_type": "code",
   "execution_count": 21,
   "metadata": {
    "ExecuteTime": {
     "end_time": "2023-01-10T22:04:23.356247Z",
     "start_time": "2023-01-10T22:04:23.348836Z"
    }
   },
   "outputs": [
    {
     "data": {
      "text/plain": [
       "Index(['state_total'], dtype='object')"
      ]
     },
     "execution_count": 21,
     "metadata": {},
     "output_type": "execute_result"
    }
   ],
   "source": [
    "num_books_per_state.columns"
   ]
  },
  {
   "cell_type": "code",
   "execution_count": null,
   "metadata": {
    "ExecuteTime": {
     "end_time": "2023-01-10T22:00:00.655389Z",
     "start_time": "2023-01-10T21:59:59.518Z"
    }
   },
   "outputs": [],
   "source": [
    "num_books_per_state"
   ]
  },
  {
   "cell_type": "code",
   "execution_count": null,
   "metadata": {
    "ExecuteTime": {
     "end_time": "2023-01-10T22:00:00.656002Z",
     "start_time": "2023-01-10T21:59:59.518Z"
    }
   },
   "outputs": [],
   "source": [
    "df.author.value_counts().head(31)\n"
   ]
  },
  {
   "cell_type": "code",
   "execution_count": null,
   "metadata": {
    "ExecuteTime": {
     "end_time": "2023-01-10T22:00:00.656517Z",
     "start_time": "2023-01-10T21:59:59.518Z"
    }
   },
   "outputs": [],
   "source": [
    "# Neil Gaiman's works on the list\n",
    "df[ df['author'] == 'GAIMAN, NEIL']['publication']"
   ]
  },
  {
   "cell_type": "code",
   "execution_count": null,
   "metadata": {
    "ExecuteTime": {
     "end_time": "2023-01-10T22:00:00.657111Z",
     "start_time": "2023-01-10T21:59:59.519Z"
    }
   },
   "outputs": [],
   "source": [
    "# Neil Gaiman's works on the list\n",
    "df[ df['author'] == 'GAIMAN, NEIL'][['publication', 'reason']]"
   ]
  },
  {
   "cell_type": "code",
   "execution_count": null,
   "metadata": {
    "ExecuteTime": {
     "end_time": "2023-01-10T22:00:00.657669Z",
     "start_time": "2023-01-10T21:59:59.519Z"
    }
   },
   "outputs": [],
   "source": [
    "#Robert Greene's works on the list\n",
    "df[ df['author'] == 'GREENE, ROBERT']['publication']"
   ]
  },
  {
   "cell_type": "code",
   "execution_count": null,
   "metadata": {
    "ExecuteTime": {
     "end_time": "2023-01-10T22:00:00.658162Z",
     "start_time": "2023-01-10T21:59:59.519Z"
    }
   },
   "outputs": [],
   "source": [
    "#Robert Greene's works on the list\n",
    "df[ df['author'] == 'GREENE, ROBERT'][['publication', 'reason']]"
   ]
  },
  {
   "cell_type": "code",
   "execution_count": null,
   "metadata": {},
   "outputs": [],
   "source": []
  }
 ],
 "metadata": {
  "kernelspec": {
   "display_name": "Python (learn-env)",
   "language": "python",
   "name": "learn-env"
  },
  "language_info": {
   "codemirror_mode": {
    "name": "ipython",
    "version": 3
   },
   "file_extension": ".py",
   "mimetype": "text/x-python",
   "name": "python",
   "nbconvert_exporter": "python",
   "pygments_lexer": "ipython3",
   "version": "3.8.5"
  }
 },
 "nbformat": 4,
 "nbformat_minor": 4
}
