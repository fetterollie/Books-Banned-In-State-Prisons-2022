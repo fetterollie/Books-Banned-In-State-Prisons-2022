{
 "cells": [
  {
   "cell_type": "markdown",
   "metadata": {},
   "source": [
    "## Imports"
   ]
  },
  {
   "cell_type": "code",
   "execution_count": 1,
   "metadata": {
    "ExecuteTime": {
     "end_time": "2023-01-11T19:48:51.486224Z",
     "start_time": "2023-01-11T19:48:50.608673Z"
    }
   },
   "outputs": [],
   "source": [
    "import pandas as pd\n",
    "import matplotlib.pyplot as plt\n",
    "import seaborn as sns"
   ]
  },
  {
   "cell_type": "markdown",
   "metadata": {},
   "source": [
    "## Data"
   ]
  },
  {
   "cell_type": "code",
   "execution_count": 2,
   "metadata": {
    "ExecuteTime": {
     "end_time": "2023-01-11T19:48:51.542634Z",
     "start_time": "2023-01-11T19:48:51.487424Z"
    }
   },
   "outputs": [],
   "source": [
    "df = pd.read_csv('data/banned_book_data_combined_lists.csv')"
   ]
  },
  {
   "cell_type": "code",
   "execution_count": 3,
   "metadata": {
    "ExecuteTime": {
     "end_time": "2023-01-11T19:48:51.553463Z",
     "start_time": "2023-01-11T19:48:51.543783Z"
    },
    "scrolled": true
   },
   "outputs": [
    {
     "data": {
      "text/html": [
       "<div>\n",
       "<style scoped>\n",
       "    .dataframe tbody tr th:only-of-type {\n",
       "        vertical-align: middle;\n",
       "    }\n",
       "\n",
       "    .dataframe tbody tr th {\n",
       "        vertical-align: top;\n",
       "    }\n",
       "\n",
       "    .dataframe thead th {\n",
       "        text-align: right;\n",
       "    }\n",
       "</style>\n",
       "<table border=\"1\" class=\"dataframe\">\n",
       "  <thead>\n",
       "    <tr style=\"text-align: right;\">\n",
       "      <th></th>\n",
       "      <th>publication</th>\n",
       "      <th>author</th>\n",
       "      <th>date</th>\n",
       "      <th>year</th>\n",
       "      <th>month</th>\n",
       "      <th>day</th>\n",
       "      <th>reason</th>\n",
       "      <th>state_arc</th>\n",
       "    </tr>\n",
       "  </thead>\n",
       "  <tbody>\n",
       "    <tr>\n",
       "      <th>0</th>\n",
       "      <td>[ARABIC LANGUAGE CHARACTERS].</td>\n",
       "      <td>NaN</td>\n",
       "      <td>2019-12-18 00:00:00</td>\n",
       "      <td>2019.0</td>\n",
       "      <td>12.0</td>\n",
       "      <td>18.0</td>\n",
       "      <td>NaN</td>\n",
       "      <td>fl</td>\n",
       "    </tr>\n",
       "    <tr>\n",
       "      <th>1</th>\n",
       "      <td>[ARABIC LANGUAGE CHARACTERS]. TAJWEED QURAN.</td>\n",
       "      <td>NaN</td>\n",
       "      <td>2021-09-09 00:00:00</td>\n",
       "      <td>2021.0</td>\n",
       "      <td>9.0</td>\n",
       "      <td>9.0</td>\n",
       "      <td>NaN</td>\n",
       "      <td>fl</td>\n",
       "    </tr>\n",
       "    <tr>\n",
       "      <th>2</th>\n",
       "      <td>[KOREAN LANGUAGE CHARACTERS] HOLY SPIRIT LOVE.</td>\n",
       "      <td>NaN</td>\n",
       "      <td>2021-02-25 00:00:00</td>\n",
       "      <td>2021.0</td>\n",
       "      <td>2.0</td>\n",
       "      <td>25.0</td>\n",
       "      <td>NaN</td>\n",
       "      <td>fl</td>\n",
       "    </tr>\n",
       "    <tr>\n",
       "      <th>3</th>\n",
       "      <td>[KOREAN LANGUAGE CHARACTERS].</td>\n",
       "      <td>NaN</td>\n",
       "      <td>2021-02-25 00:00:00</td>\n",
       "      <td>2021.0</td>\n",
       "      <td>2.0</td>\n",
       "      <td>25.0</td>\n",
       "      <td>NaN</td>\n",
       "      <td>fl</td>\n",
       "    </tr>\n",
       "    <tr>\n",
       "      <th>4</th>\n",
       "      <td>[KOREAN LANGUAGE CHARACTERS].</td>\n",
       "      <td>NaN</td>\n",
       "      <td>2021-02-25 00:00:00</td>\n",
       "      <td>2021.0</td>\n",
       "      <td>2.0</td>\n",
       "      <td>25.0</td>\n",
       "      <td>NaN</td>\n",
       "      <td>fl</td>\n",
       "    </tr>\n",
       "  </tbody>\n",
       "</table>\n",
       "</div>"
      ],
      "text/plain": [
       "                                       publication author  \\\n",
       "0                   [ARABIC LANGUAGE CHARACTERS].     NaN   \n",
       "1     [ARABIC LANGUAGE CHARACTERS]. TAJWEED QURAN.    NaN   \n",
       "2  [KOREAN LANGUAGE CHARACTERS] HOLY SPIRIT LOVE.     NaN   \n",
       "3                    [KOREAN LANGUAGE CHARACTERS].    NaN   \n",
       "4                   [KOREAN LANGUAGE CHARACTERS].     NaN   \n",
       "\n",
       "                  date    year  month   day reason state_arc  \n",
       "0  2019-12-18 00:00:00  2019.0   12.0  18.0    NaN        fl  \n",
       "1  2021-09-09 00:00:00  2021.0    9.0   9.0    NaN        fl  \n",
       "2  2021-02-25 00:00:00  2021.0    2.0  25.0    NaN        fl  \n",
       "3  2021-02-25 00:00:00  2021.0    2.0  25.0    NaN        fl  \n",
       "4  2021-02-25 00:00:00  2021.0    2.0  25.0    NaN        fl  "
      ]
     },
     "execution_count": 3,
     "metadata": {},
     "output_type": "execute_result"
    }
   ],
   "source": [
    "df.head()"
   ]
  },
  {
   "cell_type": "code",
   "execution_count": 4,
   "metadata": {
    "ExecuteTime": {
     "end_time": "2023-01-11T19:48:51.555850Z",
     "start_time": "2023-01-11T19:48:51.554123Z"
    },
    "scrolled": true
   },
   "outputs": [
    {
     "data": {
      "text/plain": [
       "Index(['publication', 'author', 'date', 'year', 'month', 'day', 'reason',\n",
       "       'state_arc'],\n",
       "      dtype='object')"
      ]
     },
     "execution_count": 4,
     "metadata": {},
     "output_type": "execute_result"
    }
   ],
   "source": [
    "df.columns"
   ]
  },
  {
   "cell_type": "markdown",
   "metadata": {},
   "source": [
    "### About the Columns\n",
    "- publication - Title of the book\n",
    "- author - Author\n",
    "- date - Date the book was banned\n",
    "- year - Integer year book was banned\n",
    "- month - Integer month book was banned\n",
    "- day - Integer day book was banned\n",
    "- reason - Justification provided by the relevant Department of Corrections for banning the book\n",
    "- state - State postal code"
   ]
  },
  {
   "cell_type": "code",
   "execution_count": 5,
   "metadata": {
    "ExecuteTime": {
     "end_time": "2023-01-11T19:48:51.570319Z",
     "start_time": "2023-01-11T19:48:51.556481Z"
    },
    "scrolled": true
   },
   "outputs": [
    {
     "name": "stdout",
     "output_type": "stream",
     "text": [
      "<class 'pandas.core.frame.DataFrame'>\n",
      "RangeIndex: 48376 entries, 0 to 48375\n",
      "Data columns (total 8 columns):\n",
      " #   Column       Non-Null Count  Dtype  \n",
      "---  ------       --------------  -----  \n",
      " 0   publication  48376 non-null  object \n",
      " 1   author       16639 non-null  object \n",
      " 2   date         40750 non-null  object \n",
      " 3   year         40778 non-null  float64\n",
      " 4   month        40750 non-null  float64\n",
      " 5   day          40366 non-null  float64\n",
      " 6   reason       23350 non-null  object \n",
      " 7   state_arc    48376 non-null  object \n",
      "dtypes: float64(3), object(5)\n",
      "memory usage: 3.0+ MB\n"
     ]
    }
   ],
   "source": [
    "df.info()"
   ]
  },
  {
   "cell_type": "code",
   "execution_count": 6,
   "metadata": {
    "ExecuteTime": {
     "end_time": "2023-01-11T19:48:51.572395Z",
     "start_time": "2023-01-11T19:48:51.571182Z"
    }
   },
   "outputs": [],
   "source": [
    "# many nulls in 'author' & 'reason'"
   ]
  },
  {
   "cell_type": "code",
   "execution_count": 7,
   "metadata": {
    "ExecuteTime": {
     "end_time": "2023-01-11T19:48:51.579329Z",
     "start_time": "2023-01-11T19:48:51.574249Z"
    }
   },
   "outputs": [
    {
     "data": {
      "text/plain": [
       "fl    20202\n",
       "tx     9396\n",
       "az     4632\n",
       "va     2553\n",
       "wi     2281\n",
       "or     1780\n",
       "ct     1659\n",
       "sc     1509\n",
       "ca     1424\n",
       "mi      974\n",
       "nc      600\n",
       "ia      431\n",
       "mt      374\n",
       "nj      232\n",
       "il      134\n",
       "ks       99\n",
       "ri       68\n",
       "ga       28\n",
       "Name: state_arc, dtype: int64"
      ]
     },
     "execution_count": 7,
     "metadata": {},
     "output_type": "execute_result"
    }
   ],
   "source": [
    "# which states?\n",
    "df.state_arc.value_counts()"
   ]
  },
  {
   "cell_type": "markdown",
   "metadata": {},
   "source": [
    "## EDA"
   ]
  },
  {
   "cell_type": "code",
   "execution_count": 8,
   "metadata": {
    "ExecuteTime": {
     "end_time": "2023-01-11T19:48:51.863108Z",
     "start_time": "2023-01-11T19:48:51.580531Z"
    },
    "scrolled": true
   },
   "outputs": [
    {
     "data": {
      "image/png": "[encoded data removed]",
      "text/plain": [
       "<Figure size 720x360 with 1 Axes>"
      ]
     },
     "metadata": {
      "needs_background": "light"
     },
     "output_type": "display_data"
    }
   ],
   "source": [
    "fig, ax = plt.subplots(figsize=(10, 5))\n",
    "sns.histplot(data=df, x='year', ax=ax);"
   ]
  },
  {
   "cell_type": "code",
   "execution_count": 9,
   "metadata": {
    "ExecuteTime": {
     "end_time": "2023-01-11T19:48:51.975677Z",
     "start_time": "2023-01-11T19:48:51.863863Z"
    }
   },
   "outputs": [
    {
     "data": {
      "text/plain": [
       "Text(0.5, 1.0, 'Number of Banned Books per State')"
      ]
     },
     "execution_count": 9,
     "metadata": {},
     "output_type": "execute_result"
    },
    {
     "data": {
      "image/png": "[encoded data removed]",
      "text/plain": [
       "<Figure size 1080x540 with 1 Axes>"
      ]
     },
     "metadata": {
      "needs_background": "light"
     },
     "output_type": "display_data"
    }
   ],
   "source": [
    "num_books_per_state = pd.DataFrame(df.state_arc.value_counts())\n",
    "\n",
    "num_books_per_state = num_books_per_state.rename(columns={'state_arc' : 'state_total'})\n",
    "fig, ax = plt.subplots(figsize=(15,7.5))\n",
    "sns.barplot(x=num_books_per_state.index, y=num_books_per_state.state_total, palette='flare')\n",
    "ax.set_ylabel('Number of Banned Books')\n",
    "ax.set_xlabel('State')\n",
    "ax.set_title('Number of Banned Books per State')"
   ]
  },
  {
   "cell_type": "code",
   "execution_count": 10,
   "metadata": {
    "ExecuteTime": {
     "end_time": "2023-01-11T19:48:51.978535Z",
     "start_time": "2023-01-11T19:48:51.976549Z"
    }
   },
   "outputs": [
    {
     "data": {
      "text/plain": [
       "Index(['state_total'], dtype='object')"
      ]
     },
     "execution_count": 10,
     "metadata": {},
     "output_type": "execute_result"
    }
   ],
   "source": [
    "num_books_per_state.columns"
   ]
  },
  {
   "cell_type": "code",
   "execution_count": 11,
   "metadata": {
    "ExecuteTime": {
     "end_time": "2023-01-11T19:48:51.982345Z",
     "start_time": "2023-01-11T19:48:51.979268Z"
    }
   },
   "outputs": [
    {
     "data": {
      "text/html": [
       "<div>\n",
       "<style scoped>\n",
       "    .dataframe tbody tr th:only-of-type {\n",
       "        vertical-align: middle;\n",
       "    }\n",
       "\n",
       "    .dataframe tbody tr th {\n",
       "        vertical-align: top;\n",
       "    }\n",
       "\n",
       "    .dataframe thead th {\n",
       "        text-align: right;\n",
       "    }\n",
       "</style>\n",
       "<table border=\"1\" class=\"dataframe\">\n",
       "  <thead>\n",
       "    <tr style=\"text-align: right;\">\n",
       "      <th></th>\n",
       "      <th>state_total</th>\n",
       "    </tr>\n",
       "  </thead>\n",
       "  <tbody>\n",
       "    <tr>\n",
       "      <th>fl</th>\n",
       "      <td>20202</td>\n",
       "    </tr>\n",
       "    <tr>\n",
       "      <th>tx</th>\n",
       "      <td>9396</td>\n",
       "    </tr>\n",
       "    <tr>\n",
       "      <th>az</th>\n",
       "      <td>4632</td>\n",
       "    </tr>\n",
       "    <tr>\n",
       "      <th>va</th>\n",
       "      <td>2553</td>\n",
       "    </tr>\n",
       "    <tr>\n",
       "      <th>wi</th>\n",
       "      <td>2281</td>\n",
       "    </tr>\n",
       "    <tr>\n",
       "      <th>or</th>\n",
       "      <td>1780</td>\n",
       "    </tr>\n",
       "    <tr>\n",
       "      <th>ct</th>\n",
       "      <td>1659</td>\n",
       "    </tr>\n",
       "    <tr>\n",
       "      <th>sc</th>\n",
       "      <td>1509</td>\n",
       "    </tr>\n",
       "    <tr>\n",
       "      <th>ca</th>\n",
       "      <td>1424</td>\n",
       "    </tr>\n",
       "    <tr>\n",
       "      <th>mi</th>\n",
       "      <td>974</td>\n",
       "    </tr>\n",
       "    <tr>\n",
       "      <th>nc</th>\n",
       "      <td>600</td>\n",
       "    </tr>\n",
       "    <tr>\n",
       "      <th>ia</th>\n",
       "      <td>431</td>\n",
       "    </tr>\n",
       "    <tr>\n",
       "      <th>mt</th>\n",
       "      <td>374</td>\n",
       "    </tr>\n",
       "    <tr>\n",
       "      <th>nj</th>\n",
       "      <td>232</td>\n",
       "    </tr>\n",
       "    <tr>\n",
       "      <th>il</th>\n",
       "      <td>134</td>\n",
       "    </tr>\n",
       "    <tr>\n",
       "      <th>ks</th>\n",
       "      <td>99</td>\n",
       "    </tr>\n",
       "    <tr>\n",
       "      <th>ri</th>\n",
       "      <td>68</td>\n",
       "    </tr>\n",
       "    <tr>\n",
       "      <th>ga</th>\n",
       "      <td>28</td>\n",
       "    </tr>\n",
       "  </tbody>\n",
       "</table>\n",
       "</div>"
      ],
      "text/plain": [
       "    state_total\n",
       "fl        20202\n",
       "tx         9396\n",
       "az         4632\n",
       "va         2553\n",
       "wi         2281\n",
       "or         1780\n",
       "ct         1659\n",
       "sc         1509\n",
       "ca         1424\n",
       "mi          974\n",
       "nc          600\n",
       "ia          431\n",
       "mt          374\n",
       "nj          232\n",
       "il          134\n",
       "ks           99\n",
       "ri           68\n",
       "ga           28"
      ]
     },
     "execution_count": 11,
     "metadata": {},
     "output_type": "execute_result"
    }
   ],
   "source": [
    "num_books_per_state"
   ]
  },
  {
   "cell_type": "code",
   "execution_count": 12,
   "metadata": {
    "ExecuteTime": {
     "end_time": "2023-01-11T19:48:51.990373Z",
     "start_time": "2023-01-11T19:48:51.983054Z"
    }
   },
   "outputs": [
    {
     "data": {
      "text/plain": [
       "NONE                       452\n",
       "ENNIS, GARTH                46\n",
       "Zane                        29\n",
       "GAIMAN, NEIL                27\n",
       "Penthouse International     27\n",
       "CHIA, MANTAK                26\n",
       "Silk White                  24\n",
       "OKAYADO                     24\n",
       "VAUGHAN, BRIAN              24\n",
       "GHOST                       24\n",
       "RAND MCNALLY                23\n",
       "NATIONAL GEOGRAPHIC         23\n",
       "ROYO, LUIS                  23\n",
       "KOIKE, KAZUO                20\n",
       "editors of Penthouse        20\n",
       "Anonymous                   20\n",
       "TAMAKI, NOZOMU              19\n",
       "MOORE, ALAN                 19\n",
       "ANONYMOUS                   19\n",
       "ASHLEY & JAQUAVIS           19\n",
       "MIURA, KENTARO              17\n",
       "FENNER, CATHY               17\n",
       "PATTERSON, JAMES            16\n",
       "Tranay Adams                16\n",
       "Ken Akamatsu                16\n",
       "GREENE, ROBERT              16\n",
       "BRUBAKER, ED                15\n",
       "Ghost                       15\n",
       "Taschen                     15\n",
       "Mike Enemigo                15\n",
       "Jim Balent                  15\n",
       "Name: author, dtype: int64"
      ]
     },
     "execution_count": 12,
     "metadata": {},
     "output_type": "execute_result"
    }
   ],
   "source": [
    "df.author.value_counts().head(31)\n"
   ]
  },
  {
   "cell_type": "code",
   "execution_count": 13,
   "metadata": {
    "ExecuteTime": {
     "end_time": "2023-01-11T19:48:51.997905Z",
     "start_time": "2023-01-11T19:48:51.991560Z"
    }
   },
   "outputs": [
    {
     "data": {
      "text/plain": [
       "29899                         AMERICAN GODS SHADOWS BK1\n",
       "29900                        AMERICAN GODS V2 MY AINSEL\n",
       "30099                          ART OF BRYAN TALBOT, THE\n",
       "30509                    BEST AMERICAN COMICS 2010, THE\n",
       "30713                                      BLACK ORCHID\n",
       "31367    COMICAL TRAGEDY OR TRAGICAL COMEDY OF MR PUNCH\n",
       "31841                         DEATH: THE DELUXE EDITION\n",
       "32120                                       DREAMING #1\n",
       "32498    FACTS IN THE CASE OF THE DEPARTURE OF MISS FIN\n",
       "34599                   LUCIFER: THE INFERNAL COMEDY #1\n",
       "34965                MIDNIGHT DAYS - THE DELUXE EDITION\n",
       "36120                  PROBLEM OF SUSAN & OTHER STORIES\n",
       "36577                             SANDMAN BOOK ONE, THE\n",
       "36578                             SANDMAN BOOK TWO, THE\n",
       "36579                       SANDMAN ENDLESS NIGHTS, THE\n",
       "36581                           SANDMAN OMNIBUS V2, THE\n",
       "36582              SANDMAN OVERTURE DELUXE EDITION, THE\n",
       "36583              SANDMAN V1 PRELUDES & NOCTURNES, THE\n",
       "36584                         SANDMAN V10 THE WAKE, THE\n",
       "36585                SANDMAN V11 THE DREAM HUNTERS, THE\n",
       "36586                       SANDMAN V2 THE DOLL'S HOUSE\n",
       "36587                          SANDMAN V3 DREAM COUNTRY\n",
       "36588                   SANDMAN V4 SEASON OF MISTS, THE\n",
       "36589                 SANDMAN V6 FABLES AND REFLECTIONS\n",
       "36590                            SANDMAN V7 BRIEF LIVES\n",
       "36591                           SANDMAN V9 KINDLEY ONES\n",
       "37078                               SNOW, GLASS, APPLES\n",
       "Name: publication, dtype: object"
      ]
     },
     "execution_count": 13,
     "metadata": {},
     "output_type": "execute_result"
    }
   ],
   "source": [
    "# Neil Gaiman's works on the list\n",
    "df[ df['author'] == 'GAIMAN, NEIL']['publication']"
   ]
  },
  {
   "cell_type": "code",
   "execution_count": 14,
   "metadata": {
    "ExecuteTime": {
     "end_time": "2023-01-11T19:48:52.005967Z",
     "start_time": "2023-01-11T19:48:51.998854Z"
    }
   },
   "outputs": [
    {
     "data": {
      "text/html": [
       "<div>\n",
       "<style scoped>\n",
       "    .dataframe tbody tr th:only-of-type {\n",
       "        vertical-align: middle;\n",
       "    }\n",
       "\n",
       "    .dataframe tbody tr th {\n",
       "        vertical-align: top;\n",
       "    }\n",
       "\n",
       "    .dataframe thead th {\n",
       "        text-align: right;\n",
       "    }\n",
       "</style>\n",
       "<table border=\"1\" class=\"dataframe\">\n",
       "  <thead>\n",
       "    <tr style=\"text-align: right;\">\n",
       "      <th></th>\n",
       "      <th>publication</th>\n",
       "      <th>reason</th>\n",
       "    </tr>\n",
       "  </thead>\n",
       "  <tbody>\n",
       "    <tr>\n",
       "      <th>29899</th>\n",
       "      <td>AMERICAN GODS SHADOWS BK1</td>\n",
       "      <td>PGS 27, 28, 59, 126, 139 &amp; 170 SEXUALLY EXPLIC...</td>\n",
       "    </tr>\n",
       "    <tr>\n",
       "      <th>29900</th>\n",
       "      <td>AMERICAN GODS V2 MY AINSEL</td>\n",
       "      <td>PAGES 29, 80 &amp; 108 CONTAIN SEXUALLY EXPLICIT I...</td>\n",
       "    </tr>\n",
       "    <tr>\n",
       "      <th>30099</th>\n",
       "      <td>ART OF BRYAN TALBOT, THE</td>\n",
       "      <td>PAGES 17, 28, 29, 32, 52 &amp; 58 SEI</td>\n",
       "    </tr>\n",
       "    <tr>\n",
       "      <th>30509</th>\n",
       "      <td>BEST AMERICAN COMICS 2010, THE</td>\n",
       "      <td>PGS 182, 185, 186 &amp; 187 SEXUALLY EXPLICIT IMAGES</td>\n",
       "    </tr>\n",
       "    <tr>\n",
       "      <th>30713</th>\n",
       "      <td>BLACK ORCHID</td>\n",
       "      <td>PGS 27, 28, 32, 40, 66 &amp; 109 SEXUALLY EXPLICIT...</td>\n",
       "    </tr>\n",
       "    <tr>\n",
       "      <th>31367</th>\n",
       "      <td>COMICAL TRAGEDY OR TRAGICAL COMEDY OF MR PUNCH</td>\n",
       "      <td>PGS 27 &amp; 29 SEXUALLY EXPLICIT IMAGES</td>\n",
       "    </tr>\n",
       "    <tr>\n",
       "      <th>31841</th>\n",
       "      <td>DEATH: THE DELUXE EDITION</td>\n",
       "      <td>PG 243 SEXUALLY EXPLICIT IMAGE</td>\n",
       "    </tr>\n",
       "    <tr>\n",
       "      <th>32120</th>\n",
       "      <td>DREAMING #1</td>\n",
       "      <td>PGS 74, 156 &amp; 157 SEXUALLY EXPLICIT IMAGES</td>\n",
       "    </tr>\n",
       "    <tr>\n",
       "      <th>32498</th>\n",
       "      <td>FACTS IN THE CASE OF THE DEPARTURE OF MISS FIN</td>\n",
       "      <td>PAGE: 38 SEI</td>\n",
       "    </tr>\n",
       "    <tr>\n",
       "      <th>34599</th>\n",
       "      <td>LUCIFER: THE INFERNAL COMEDY #1</td>\n",
       "      <td>PGS 30 &amp; 93 SEXUALLY EXPLICIT IMAGES</td>\n",
       "    </tr>\n",
       "    <tr>\n",
       "      <th>34965</th>\n",
       "      <td>MIDNIGHT DAYS - THE DELUXE EDITION</td>\n",
       "      <td>PG 121 SEXUALLY EXPLICIT IMAGE</td>\n",
       "    </tr>\n",
       "    <tr>\n",
       "      <th>36120</th>\n",
       "      <td>PROBLEM OF SUSAN &amp; OTHER STORIES</td>\n",
       "      <td>PGS 29 &amp; 32 SEXUALLY EXPLICIT IMAGES</td>\n",
       "    </tr>\n",
       "    <tr>\n",
       "      <th>36577</th>\n",
       "      <td>SANDMAN BOOK ONE, THE</td>\n",
       "      <td>NaN</td>\n",
       "    </tr>\n",
       "    <tr>\n",
       "      <th>36578</th>\n",
       "      <td>SANDMAN BOOK TWO, THE</td>\n",
       "      <td>PAGE 519 CONTAIN SEXUALLY EXPLICIT IMAGES</td>\n",
       "    </tr>\n",
       "    <tr>\n",
       "      <th>36579</th>\n",
       "      <td>SANDMAN ENDLESS NIGHTS, THE</td>\n",
       "      <td>PGS 17, 29 &amp; 37 SEXUALLY EXPLICIT IMAGES</td>\n",
       "    </tr>\n",
       "    <tr>\n",
       "      <th>36581</th>\n",
       "      <td>SANDMAN OMNIBUS V2, THE</td>\n",
       "      <td>PAGES 45 &amp; 46 SEXUALLY EXPLICIT IMAGES</td>\n",
       "    </tr>\n",
       "    <tr>\n",
       "      <th>36582</th>\n",
       "      <td>SANDMAN OVERTURE DELUXE EDITION, THE</td>\n",
       "      <td>PGS 59, 160 &amp; 176 SEXUALLY EXPLICIT IMAGES</td>\n",
       "    </tr>\n",
       "    <tr>\n",
       "      <th>36583</th>\n",
       "      <td>SANDMAN V1 PRELUDES &amp; NOCTURNES, THE</td>\n",
       "      <td>PGS 88, 102 &amp; 103 CONTAIN SEXUALLY EXPLICIT IM...</td>\n",
       "    </tr>\n",
       "    <tr>\n",
       "      <th>36584</th>\n",
       "      <td>SANDMAN V10 THE WAKE, THE</td>\n",
       "      <td>PAGES 16, 18, 19, 35 &amp; 37 SEXUALLY EXPLICIT IM...</td>\n",
       "    </tr>\n",
       "    <tr>\n",
       "      <th>36585</th>\n",
       "      <td>SANDMAN V11 THE DREAM HUNTERS, THE</td>\n",
       "      <td>PG 44 SEXUALLY EXPLICIT IMAGES</td>\n",
       "    </tr>\n",
       "    <tr>\n",
       "      <th>36586</th>\n",
       "      <td>SANDMAN V2 THE DOLL'S HOUSE</td>\n",
       "      <td>PAGES: 196 &amp; 197 SEI</td>\n",
       "    </tr>\n",
       "    <tr>\n",
       "      <th>36587</th>\n",
       "      <td>SANDMAN V3 DREAM COUNTRY</td>\n",
       "      <td>PAGES: 18,19 &amp; 71 SEI</td>\n",
       "    </tr>\n",
       "    <tr>\n",
       "      <th>36588</th>\n",
       "      <td>SANDMAN V4 SEASON OF MISTS, THE</td>\n",
       "      <td>PAGE 93 CONTAINS A SEXUALLY EXPLICIT IMAGE</td>\n",
       "    </tr>\n",
       "    <tr>\n",
       "      <th>36589</th>\n",
       "      <td>SANDMAN V6 FABLES AND REFLECTIONS</td>\n",
       "      <td>PGS 42, 43 &amp; 44 SEXUALLY EXPLICIT IMAGES</td>\n",
       "    </tr>\n",
       "    <tr>\n",
       "      <th>36590</th>\n",
       "      <td>SANDMAN V7 BRIEF LIVES</td>\n",
       "      <td>PGS 18, 19, 22 &amp; 24 SEXUALLY EXPLICIT IMAGES</td>\n",
       "    </tr>\n",
       "    <tr>\n",
       "      <th>36591</th>\n",
       "      <td>SANDMAN V9 KINDLEY ONES</td>\n",
       "      <td>PGS 12 &amp; 116 SEXUALLY EXPLICIT IMAGES</td>\n",
       "    </tr>\n",
       "    <tr>\n",
       "      <th>37078</th>\n",
       "      <td>SNOW, GLASS, APPLES</td>\n",
       "      <td>PAGES 5, 39 &amp; 40 CONTAIN SEXUALLY EXPLICIT IMAGES</td>\n",
       "    </tr>\n",
       "  </tbody>\n",
       "</table>\n",
       "</div>"
      ],
      "text/plain": [
       "                                          publication  \\\n",
       "29899                       AMERICAN GODS SHADOWS BK1   \n",
       "29900                      AMERICAN GODS V2 MY AINSEL   \n",
       "30099                        ART OF BRYAN TALBOT, THE   \n",
       "30509                  BEST AMERICAN COMICS 2010, THE   \n",
       "30713                                    BLACK ORCHID   \n",
       "31367  COMICAL TRAGEDY OR TRAGICAL COMEDY OF MR PUNCH   \n",
       "31841                       DEATH: THE DELUXE EDITION   \n",
       "32120                                     DREAMING #1   \n",
       "32498  FACTS IN THE CASE OF THE DEPARTURE OF MISS FIN   \n",
       "34599                 LUCIFER: THE INFERNAL COMEDY #1   \n",
       "34965              MIDNIGHT DAYS - THE DELUXE EDITION   \n",
       "36120                PROBLEM OF SUSAN & OTHER STORIES   \n",
       "36577                           SANDMAN BOOK ONE, THE   \n",
       "36578                           SANDMAN BOOK TWO, THE   \n",
       "36579                     SANDMAN ENDLESS NIGHTS, THE   \n",
       "36581                         SANDMAN OMNIBUS V2, THE   \n",
       "36582            SANDMAN OVERTURE DELUXE EDITION, THE   \n",
       "36583            SANDMAN V1 PRELUDES & NOCTURNES, THE   \n",
       "36584                       SANDMAN V10 THE WAKE, THE   \n",
       "36585              SANDMAN V11 THE DREAM HUNTERS, THE   \n",
       "36586                     SANDMAN V2 THE DOLL'S HOUSE   \n",
       "36587                        SANDMAN V3 DREAM COUNTRY   \n",
       "36588                 SANDMAN V4 SEASON OF MISTS, THE   \n",
       "36589               SANDMAN V6 FABLES AND REFLECTIONS   \n",
       "36590                          SANDMAN V7 BRIEF LIVES   \n",
       "36591                         SANDMAN V9 KINDLEY ONES   \n",
       "37078                             SNOW, GLASS, APPLES   \n",
       "\n",
       "                                                  reason  \n",
       "29899  PGS 27, 28, 59, 126, 139 & 170 SEXUALLY EXPLIC...  \n",
       "29900  PAGES 29, 80 & 108 CONTAIN SEXUALLY EXPLICIT I...  \n",
       "30099                  PAGES 17, 28, 29, 32, 52 & 58 SEI  \n",
       "30509   PGS 182, 185, 186 & 187 SEXUALLY EXPLICIT IMAGES  \n",
       "30713  PGS 27, 28, 32, 40, 66 & 109 SEXUALLY EXPLICIT...  \n",
       "31367               PGS 27 & 29 SEXUALLY EXPLICIT IMAGES  \n",
       "31841                     PG 243 SEXUALLY EXPLICIT IMAGE  \n",
       "32120         PGS 74, 156 & 157 SEXUALLY EXPLICIT IMAGES  \n",
       "32498                                       PAGE: 38 SEI  \n",
       "34599               PGS 30 & 93 SEXUALLY EXPLICIT IMAGES  \n",
       "34965                     PG 121 SEXUALLY EXPLICIT IMAGE  \n",
       "36120               PGS 29 & 32 SEXUALLY EXPLICIT IMAGES  \n",
       "36577                                                NaN  \n",
       "36578          PAGE 519 CONTAIN SEXUALLY EXPLICIT IMAGES  \n",
       "36579           PGS 17, 29 & 37 SEXUALLY EXPLICIT IMAGES  \n",
       "36581             PAGES 45 & 46 SEXUALLY EXPLICIT IMAGES  \n",
       "36582         PGS 59, 160 & 176 SEXUALLY EXPLICIT IMAGES  \n",
       "36583  PGS 88, 102 & 103 CONTAIN SEXUALLY EXPLICIT IM...  \n",
       "36584  PAGES 16, 18, 19, 35 & 37 SEXUALLY EXPLICIT IM...  \n",
       "36585                     PG 44 SEXUALLY EXPLICIT IMAGES  \n",
       "36586                               PAGES: 196 & 197 SEI  \n",
       "36587                              PAGES: 18,19 & 71 SEI  \n",
       "36588         PAGE 93 CONTAINS A SEXUALLY EXPLICIT IMAGE  \n",
       "36589           PGS 42, 43 & 44 SEXUALLY EXPLICIT IMAGES  \n",
       "36590       PGS 18, 19, 22 & 24 SEXUALLY EXPLICIT IMAGES  \n",
       "36591              PGS 12 & 116 SEXUALLY EXPLICIT IMAGES  \n",
       "37078  PAGES 5, 39 & 40 CONTAIN SEXUALLY EXPLICIT IMAGES  "
      ]
     },
     "execution_count": 14,
     "metadata": {},
     "output_type": "execute_result"
    }
   ],
   "source": [
    "# Neil Gaiman's works on the list\n",
    "df[ df['author'] == 'GAIMAN, NEIL'][['publication', 'reason']]"
   ]
  },
  {
   "cell_type": "code",
   "execution_count": 15,
   "metadata": {
    "ExecuteTime": {
     "end_time": "2023-01-11T19:48:52.010663Z",
     "start_time": "2023-01-11T19:48:52.006769Z"
    }
   },
   "outputs": [
    {
     "data": {
      "text/plain": [
       "30165                           ART OF SEDUCTION\n",
       "31461              CONCISE ART OF SEDUCTION, THE\n",
       "31463          CONCISE LAWS OF HUMAN NATURE, THE\n",
       "31465          CONCISE 33 STRATEGIES OF WAR, THE\n",
       "31466              CONCISE 48 LAWS OF POWER, THE\n",
       "31672                            DAILY LAWS, THE\n",
       "33238                                      HAIRY\n",
       "34315                       LAWS OF HUMAN NATURE\n",
       "37379               SUMMARY THE ART OF SEDUCTION\n",
       "37380           SUMMARY THE LAWS OF HUMAN NATURE\n",
       "37381               SUMMARY THE 48 LAWS OF POWER\n",
       "38613       WORKBOOK ON THE LAWS OF HUMAN NATURE\n",
       "38898                       33 STRATEGIES OF WAR\n",
       "38910    48 LAWS OF POWER NEW SUMMARY & ANALYSIS\n",
       "38911                      48 LAWS OF POWER, THE\n",
       "38921                              50TH LAW, THE\n",
       "Name: publication, dtype: object"
      ]
     },
     "execution_count": 15,
     "metadata": {},
     "output_type": "execute_result"
    }
   ],
   "source": [
    "#Robert Greene's works on the list\n",
    "df[ df['author'] == 'GREENE, ROBERT']['publication']"
   ]
  },
  {
   "cell_type": "code",
   "execution_count": 16,
   "metadata": {
    "ExecuteTime": {
     "end_time": "2023-01-11T19:48:52.017871Z",
     "start_time": "2023-01-11T19:48:52.011734Z"
    }
   },
   "outputs": [
    {
     "data": {
      "text/html": [
       "<div>\n",
       "<style scoped>\n",
       "    .dataframe tbody tr th:only-of-type {\n",
       "        vertical-align: middle;\n",
       "    }\n",
       "\n",
       "    .dataframe tbody tr th {\n",
       "        vertical-align: top;\n",
       "    }\n",
       "\n",
       "    .dataframe thead th {\n",
       "        text-align: right;\n",
       "    }\n",
       "</style>\n",
       "<table border=\"1\" class=\"dataframe\">\n",
       "  <thead>\n",
       "    <tr style=\"text-align: right;\">\n",
       "      <th></th>\n",
       "      <th>publication</th>\n",
       "      <th>reason</th>\n",
       "    </tr>\n",
       "  </thead>\n",
       "  <tbody>\n",
       "    <tr>\n",
       "      <th>30165</th>\n",
       "      <td>ART OF SEDUCTION</td>\n",
       "      <td>ENTIRE BOOK CONTAINS MANIPULATION TECHNIQUES</td>\n",
       "    </tr>\n",
       "    <tr>\n",
       "      <th>31461</th>\n",
       "      <td>CONCISE ART OF SEDUCTION, THE</td>\n",
       "      <td>ENTIRE BOOK CONTAINS MANIPULATION TECHNIQUES</td>\n",
       "    </tr>\n",
       "    <tr>\n",
       "      <th>31463</th>\n",
       "      <td>CONCISE LAWS OF HUMAN NATURE, THE</td>\n",
       "      <td>NTIRE BOOK CONTAINS MANIPULATION TECHNIQUES</td>\n",
       "    </tr>\n",
       "    <tr>\n",
       "      <th>31465</th>\n",
       "      <td>CONCISE 33 STRATEGIES OF WAR, THE</td>\n",
       "      <td>ENTIRE BOOK CONTAINS MANIPULATION TECHNIQUES</td>\n",
       "    </tr>\n",
       "    <tr>\n",
       "      <th>31466</th>\n",
       "      <td>CONCISE 48 LAWS OF POWER, THE</td>\n",
       "      <td>ENTIRE BOOK CONTAINS MANIPULATION TECHNIQUES</td>\n",
       "    </tr>\n",
       "    <tr>\n",
       "      <th>31672</th>\n",
       "      <td>DAILY LAWS, THE</td>\n",
       "      <td>ENTIRE BOOK CONTAINS MANIPULATION TECHNIQUES</td>\n",
       "    </tr>\n",
       "    <tr>\n",
       "      <th>33238</th>\n",
       "      <td>HAIRY</td>\n",
       "      <td>PAGES 11 &amp; 37 SEXUALLY EXPLICIT IMAGES</td>\n",
       "    </tr>\n",
       "    <tr>\n",
       "      <th>34315</th>\n",
       "      <td>LAWS OF HUMAN NATURE</td>\n",
       "      <td>ENTIRE BOOK CONTAINS DECEPTION &amp; MANIPULATION ...</td>\n",
       "    </tr>\n",
       "    <tr>\n",
       "      <th>37379</th>\n",
       "      <td>SUMMARY THE ART OF SEDUCTION</td>\n",
       "      <td>ENTIRE BOOK CONTAINS MANIPULATION TECHNIQUES</td>\n",
       "    </tr>\n",
       "    <tr>\n",
       "      <th>37380</th>\n",
       "      <td>SUMMARY THE LAWS OF HUMAN NATURE</td>\n",
       "      <td>ENTIRE BOOK CONTAINS MANIPULATION TECHNIQUES W...</td>\n",
       "    </tr>\n",
       "    <tr>\n",
       "      <th>37381</th>\n",
       "      <td>SUMMARY THE 48 LAWS OF POWER</td>\n",
       "      <td>ENTIRE BOOK CONTAINS MANIPULATION TECHNIQUES</td>\n",
       "    </tr>\n",
       "    <tr>\n",
       "      <th>38613</th>\n",
       "      <td>WORKBOOK ON THE LAWS OF HUMAN NATURE</td>\n",
       "      <td>ENTIRE BOOK CONTAINS DECEPTION &amp; MANIPULATION ...</td>\n",
       "    </tr>\n",
       "    <tr>\n",
       "      <th>38898</th>\n",
       "      <td>33 STRATEGIES OF WAR</td>\n",
       "      <td>ENTIRE BOOK CONTAINS MANIPULATION TECHNIQUES</td>\n",
       "    </tr>\n",
       "    <tr>\n",
       "      <th>38910</th>\n",
       "      <td>48 LAWS OF POWER NEW SUMMARY &amp; ANALYSIS</td>\n",
       "      <td>NaN</td>\n",
       "    </tr>\n",
       "    <tr>\n",
       "      <th>38911</th>\n",
       "      <td>48 LAWS OF POWER, THE</td>\n",
       "      <td>ENTIRE BOOK CONTAINS DECEPTION &amp; MANIPULATION ...</td>\n",
       "    </tr>\n",
       "    <tr>\n",
       "      <th>38921</th>\n",
       "      <td>50TH LAW, THE</td>\n",
       "      <td>ENTIRE BOOK MANIPULATION TECHNIQUES</td>\n",
       "    </tr>\n",
       "  </tbody>\n",
       "</table>\n",
       "</div>"
      ],
      "text/plain": [
       "                                   publication  \\\n",
       "30165                         ART OF SEDUCTION   \n",
       "31461            CONCISE ART OF SEDUCTION, THE   \n",
       "31463        CONCISE LAWS OF HUMAN NATURE, THE   \n",
       "31465        CONCISE 33 STRATEGIES OF WAR, THE   \n",
       "31466            CONCISE 48 LAWS OF POWER, THE   \n",
       "31672                          DAILY LAWS, THE   \n",
       "33238                                    HAIRY   \n",
       "34315                     LAWS OF HUMAN NATURE   \n",
       "37379             SUMMARY THE ART OF SEDUCTION   \n",
       "37380         SUMMARY THE LAWS OF HUMAN NATURE   \n",
       "37381             SUMMARY THE 48 LAWS OF POWER   \n",
       "38613     WORKBOOK ON THE LAWS OF HUMAN NATURE   \n",
       "38898                     33 STRATEGIES OF WAR   \n",
       "38910  48 LAWS OF POWER NEW SUMMARY & ANALYSIS   \n",
       "38911                    48 LAWS OF POWER, THE   \n",
       "38921                            50TH LAW, THE   \n",
       "\n",
       "                                                  reason  \n",
       "30165       ENTIRE BOOK CONTAINS MANIPULATION TECHNIQUES  \n",
       "31461       ENTIRE BOOK CONTAINS MANIPULATION TECHNIQUES  \n",
       "31463        NTIRE BOOK CONTAINS MANIPULATION TECHNIQUES  \n",
       "31465       ENTIRE BOOK CONTAINS MANIPULATION TECHNIQUES  \n",
       "31466       ENTIRE BOOK CONTAINS MANIPULATION TECHNIQUES  \n",
       "31672       ENTIRE BOOK CONTAINS MANIPULATION TECHNIQUES  \n",
       "33238             PAGES 11 & 37 SEXUALLY EXPLICIT IMAGES  \n",
       "34315  ENTIRE BOOK CONTAINS DECEPTION & MANIPULATION ...  \n",
       "37379       ENTIRE BOOK CONTAINS MANIPULATION TECHNIQUES  \n",
       "37380  ENTIRE BOOK CONTAINS MANIPULATION TECHNIQUES W...  \n",
       "37381       ENTIRE BOOK CONTAINS MANIPULATION TECHNIQUES  \n",
       "38613  ENTIRE BOOK CONTAINS DECEPTION & MANIPULATION ...  \n",
       "38898       ENTIRE BOOK CONTAINS MANIPULATION TECHNIQUES  \n",
       "38910                                                NaN  \n",
       "38911  ENTIRE BOOK CONTAINS DECEPTION & MANIPULATION ...  \n",
       "38921                ENTIRE BOOK MANIPULATION TECHNIQUES  "
      ]
     },
     "execution_count": 16,
     "metadata": {},
     "output_type": "execute_result"
    }
   ],
   "source": [
    "#Robert Greene's works on the list\n",
    "df[ df['author'] == 'GREENE, ROBERT'][['publication', 'reason']]"
   ]
  },
  {
   "cell_type": "code",
   "execution_count": 17,
   "metadata": {
    "ExecuteTime": {
     "end_time": "2023-01-11T19:48:52.024137Z",
     "start_time": "2023-01-11T19:48:52.018769Z"
    }
   },
   "outputs": [
    {
     "data": {
      "text/html": [
       "<div>\n",
       "<style scoped>\n",
       "    .dataframe tbody tr th:only-of-type {\n",
       "        vertical-align: middle;\n",
       "    }\n",
       "\n",
       "    .dataframe tbody tr th {\n",
       "        vertical-align: top;\n",
       "    }\n",
       "\n",
       "    .dataframe thead th {\n",
       "        text-align: right;\n",
       "    }\n",
       "</style>\n",
       "<table border=\"1\" class=\"dataframe\">\n",
       "  <thead>\n",
       "    <tr style=\"text-align: right;\">\n",
       "      <th></th>\n",
       "      <th>publication</th>\n",
       "      <th>author</th>\n",
       "      <th>date</th>\n",
       "      <th>year</th>\n",
       "      <th>month</th>\n",
       "      <th>day</th>\n",
       "      <th>reason</th>\n",
       "      <th>state_arc</th>\n",
       "    </tr>\n",
       "  </thead>\n",
       "  <tbody>\n",
       "    <tr>\n",
       "      <th>0</th>\n",
       "      <td>[ARABIC LANGUAGE CHARACTERS].</td>\n",
       "      <td>NaN</td>\n",
       "      <td>2019-12-18 00:00:00</td>\n",
       "      <td>2019.0</td>\n",
       "      <td>12.0</td>\n",
       "      <td>18.0</td>\n",
       "      <td>NaN</td>\n",
       "      <td>fl</td>\n",
       "    </tr>\n",
       "    <tr>\n",
       "      <th>1</th>\n",
       "      <td>[ARABIC LANGUAGE CHARACTERS]. TAJWEED QURAN.</td>\n",
       "      <td>NaN</td>\n",
       "      <td>2021-09-09 00:00:00</td>\n",
       "      <td>2021.0</td>\n",
       "      <td>9.0</td>\n",
       "      <td>9.0</td>\n",
       "      <td>NaN</td>\n",
       "      <td>fl</td>\n",
       "    </tr>\n",
       "    <tr>\n",
       "      <th>2</th>\n",
       "      <td>[KOREAN LANGUAGE CHARACTERS] HOLY SPIRIT LOVE.</td>\n",
       "      <td>NaN</td>\n",
       "      <td>2021-02-25 00:00:00</td>\n",
       "      <td>2021.0</td>\n",
       "      <td>2.0</td>\n",
       "      <td>25.0</td>\n",
       "      <td>NaN</td>\n",
       "      <td>fl</td>\n",
       "    </tr>\n",
       "    <tr>\n",
       "      <th>3</th>\n",
       "      <td>[KOREAN LANGUAGE CHARACTERS].</td>\n",
       "      <td>NaN</td>\n",
       "      <td>2021-02-25 00:00:00</td>\n",
       "      <td>2021.0</td>\n",
       "      <td>2.0</td>\n",
       "      <td>25.0</td>\n",
       "      <td>NaN</td>\n",
       "      <td>fl</td>\n",
       "    </tr>\n",
       "    <tr>\n",
       "      <th>4</th>\n",
       "      <td>[KOREAN LANGUAGE CHARACTERS].</td>\n",
       "      <td>NaN</td>\n",
       "      <td>2021-02-25 00:00:00</td>\n",
       "      <td>2021.0</td>\n",
       "      <td>2.0</td>\n",
       "      <td>25.0</td>\n",
       "      <td>NaN</td>\n",
       "      <td>fl</td>\n",
       "    </tr>\n",
       "  </tbody>\n",
       "</table>\n",
       "</div>"
      ],
      "text/plain": [
       "                                       publication author  \\\n",
       "0                   [ARABIC LANGUAGE CHARACTERS].     NaN   \n",
       "1     [ARABIC LANGUAGE CHARACTERS]. TAJWEED QURAN.    NaN   \n",
       "2  [KOREAN LANGUAGE CHARACTERS] HOLY SPIRIT LOVE.     NaN   \n",
       "3                    [KOREAN LANGUAGE CHARACTERS].    NaN   \n",
       "4                   [KOREAN LANGUAGE CHARACTERS].     NaN   \n",
       "\n",
       "                  date    year  month   day reason state_arc  \n",
       "0  2019-12-18 00:00:00  2019.0   12.0  18.0    NaN        fl  \n",
       "1  2021-09-09 00:00:00  2021.0    9.0   9.0    NaN        fl  \n",
       "2  2021-02-25 00:00:00  2021.0    2.0  25.0    NaN        fl  \n",
       "3  2021-02-25 00:00:00  2021.0    2.0  25.0    NaN        fl  \n",
       "4  2021-02-25 00:00:00  2021.0    2.0  25.0    NaN        fl  "
      ]
     },
     "execution_count": 17,
     "metadata": {},
     "output_type": "execute_result"
    }
   ],
   "source": [
    "df.head()"
   ]
  },
  {
   "cell_type": "code",
   "execution_count": null,
   "metadata": {},
   "outputs": [],
   "source": []
  },
  {
   "cell_type": "code",
   "execution_count": 68,
   "metadata": {
    "ExecuteTime": {
     "end_time": "2023-01-11T20:30:02.218670Z",
     "start_time": "2023-01-11T20:30:01.920041Z"
    }
   },
   "outputs": [
    {
     "data": {
      "text/plain": [
       "Text(0.5, 0.98, 'Number of Banned Books per Author')"
      ]
     },
     "execution_count": 68,
     "metadata": {},
     "output_type": "execute_result"
    },
    {
     "data": {
      "image/png": "[encoded data removed]",
      "text/plain": [
       "<Figure size 1080x1080 with 3 Axes>"
      ]
     },
     "metadata": {
      "needs_background": "light"
     },
     "output_type": "display_data"
    }
   ],
   "source": [
    "num_books_per_author = pd.DataFrame(df.author.value_counts())\n",
    "\n",
    "num_books_per_author = num_books_per_author.rename(columns={'author' : 'author_total'})\n",
    "fig, ax = plt.subplots(3, figsize=(15,15), sharey=True)\n",
    "sns.barplot(x=num_books_per_author[1:11].index, y=num_books_per_author[1:11].author_total, color='#FF0C3A', ax=ax[0])\n",
    "sns.barplot(x=num_books_per_author[11:21].index, y=num_books_per_author[11:21].author_total, color='#FF0C3A', ax=ax[1])\n",
    "sns.barplot(x=num_books_per_author[21:31].index, y=num_books_per_author[21:31].author_total, color='#FF0C3A', ax=ax[2])\n",
    "\n",
    "ax[0].set_ylabel('Number of Banned Books')\n",
    "ax[1].set_ylabel('Number of Banned Books')\n",
    "ax[2].set_ylabel('Number of Banned Books')\n",
    "\n",
    "ax[0].set_xticklabels(labels=num_books_per_author[1:11].index, rotation=15)\n",
    "ax[1].set_xticklabels(labels=num_books_per_author[11:21].index, rotation=15)\n",
    "ax[2].set_xticklabels(labels=num_books_per_author[21:31].index, rotation=15)\n",
    "\n",
    "\n",
    "fig.tight_layout()\n",
    "fig.suptitle('Number of Banned Books per Author')"
   ]
  },
  {
   "cell_type": "code",
   "execution_count": null,
   "metadata": {
    "ExecuteTime": {
     "end_time": "2023-01-11T19:48:52.239640Z",
     "start_time": "2023-01-11T19:48:50.612Z"
    }
   },
   "outputs": [],
   "source": [
    "num_books_per_author[1:31]"
   ]
  },
  {
   "cell_type": "code",
   "execution_count": null,
   "metadata": {},
   "outputs": [],
   "source": []
  }
 ],
 "metadata": {
  "kernelspec": {
   "display_name": "Python (learn-env)",
   "language": "python",
   "name": "learn-env"
  },
  "language_info": {
   "codemirror_mode": {
    "name": "ipython",
    "version": 3
   },
   "file_extension": ".py",
   "mimetype": "text/x-python",
   "name": "python",
   "nbconvert_exporter": "python",
   "pygments_lexer": "ipython3",
   "version": "3.8.5"
  }
 },
 "nbformat": 4,
 "nbformat_minor": 4
}
